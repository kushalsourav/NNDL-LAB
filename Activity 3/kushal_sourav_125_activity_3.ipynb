{
  "cells": [
    {
      "cell_type": "markdown",
      "metadata": {
        "id": "XRJ4HeRf6Lt2"
      },
      "source": [
        "Load and Preprocess the Data"
      ]
    },
    {
      "cell_type": "code",
      "execution_count": 1,
      "metadata": {
        "colab": {
          "base_uri": "https://localhost:8080/"
        },
        "id": "icasXu236FTw",
        "outputId": "afdcb24a-0d4b-47e5-de4b-8feff59c676d"
      },
      "outputs": [
        {
          "name": "stdout",
          "output_type": "stream",
          "text": [
            "Training set shape: (80, 3)\n",
            "Test set shape: (20, 3)\n"
          ]
        }
      ],
      "source": [
        "import pandas as pd\n",
        "import numpy as np\n",
        "from sklearn.model_selection import train_test_split\n",
        "from sklearn.preprocessing import StandardScaler, OneHotEncoder\n",
        "from sklearn.metrics import accuracy_score\n",
        "import matplotlib.pyplot as plt\n",
        "\n",
        "df = pd.read_csv('synthetic_classification_dataset.csv')\n",
        "\n",
        "X = df.drop('target', axis=1).values\n",
        "y = df['target'].values\n",
        "\n",
        "scaler = StandardScaler()\n",
        "X_scaled = scaler.fit_transform(X)\n",
        "\n",
        "encoder = OneHotEncoder(sparse_output=False)\n",
        "y_encoded = encoder.fit_transform(y.reshape(-1, 1))\n",
        "\n",
        "X_train, X_test, y_train, y_test = train_test_split(X_scaled, y_encoded, test_size=0.2, random_state=42)\n",
        "\n",
        "print(\"Training set shape:\", X_train.shape)\n",
        "print(\"Test set shape:\", X_test.shape)\n"
      ]
    },
    {
      "cell_type": "markdown",
      "metadata": {
        "id": "rNHvhMt26kDO"
      },
      "source": [
        "Define the Neural Network Structure and Backpropagation Implementation"
      ]
    },
    {
      "cell_type": "code",
      "execution_count": 2,
      "metadata": {
        "id": "UvbHfBem6m9J"
      },
      "outputs": [],
      "source": [
        "class SimpleDNN:\n",
        "    def __init__(self, input_size, hidden1_size, hidden2_size, output_size):\n",
        "        # Initialize weights and biases\n",
        "        self.W1 = np.random.randn(input_size, hidden1_size) * 0.01\n",
        "        self.b1 = np.zeros((1, hidden1_size))\n",
        "        self.W2 = np.random.randn(hidden1_size, hidden2_size) * 0.01\n",
        "        self.b2 = np.zeros((1, hidden2_size))\n",
        "        self.W3 = np.random.randn(hidden2_size, output_size) * 0.01\n",
        "        self.b3 = np.zeros((1, output_size))\n",
        "\n",
        "    def relu(self, Z):\n",
        "        return np.maximum(0, Z)\n",
        "\n",
        "    def relu_derivative(self, Z):\n",
        "        return (Z > 0).astype(float)\n",
        "\n",
        "    def softmax(self, Z):\n",
        "        expZ = np.exp(Z - np.max(Z, axis=1, keepdims=True))\n",
        "        return expZ / np.sum(expZ, axis=1, keepdims=True)\n",
        "\n",
        "    def forward(self, X):\n",
        "        # Forward propagation\n",
        "        self.Z1 = np.dot(X, self.W1) + self.b1\n",
        "        self.A1 = self.relu(self.Z1)\n",
        "        self.Z2 = np.dot(self.A1, self.W2) + self.b2\n",
        "        self.A2 = self.relu(self.Z2)\n",
        "        self.Z3 = np.dot(self.A2, self.W3) + self.b3\n",
        "        self.A3 = self.softmax(self.Z3)\n",
        "        return self.A3\n",
        "\n",
        "    def compute_loss(self, y_true, y_pred):\n",
        "        # Cross-entropy loss\n",
        "        m = y_true.shape[0]\n",
        "        loss = -np.sum(y_true * np.log(y_pred + 1e-10)) / m  # Add small value to avoid log(0)\n",
        "        return loss\n",
        "\n",
        "    def backward(self, X, y_true, y_pred):\n",
        "        m = y_true.shape[0]\n",
        "\n",
        "        # Output layer\n",
        "        self.dZ3 = y_pred - y_true\n",
        "        self.dW3 = np.dot(self.A2.T, self.dZ3) / m\n",
        "        self.db3 = np.sum(self.dZ3, axis=0, keepdims=True) / m\n",
        "\n",
        "        # Hidden layer 2\n",
        "        self.dZ2 = np.dot(self.dZ3, self.W3.T) * self.relu_derivative(self.Z2)\n",
        "        self.dW2 = np.dot(self.A1.T, self.dZ2) / m\n",
        "        self.db2 = np.sum(self.dZ2, axis=0, keepdims=True) / m\n",
        "\n",
        "        # Hidden layer 1\n",
        "        self.dZ1 = np.dot(self.dZ2, self.W2.T) * self.relu_derivative(self.Z1)\n",
        "        self.dW1 = np.dot(X.T, self.dZ1) / m\n",
        "        self.db1 = np.sum(self.dZ1, axis=0, keepdims=True) / m\n",
        "\n",
        "    def update_weights(self, learning_rate):\n",
        "        # Update weights and biases\n",
        "        self.W1 -= learning_rate * self.dW1\n",
        "        self.b1 -= learning_rate * self.db1\n",
        "        self.W2 -= learning_rate * self.dW2\n",
        "        self.b2 -= learning_rate * self.db2\n",
        "        self.W3 -= learning_rate * self.dW3\n",
        "        self.b3 -= learning_rate * self.db3\n"
      ]
    },
    {
      "cell_type": "markdown",
      "metadata": {
        "id": "jBi4CLtb62IX"
      },
      "source": [
        "Optimizers Implementation"
      ]
    },
    {
      "cell_type": "code",
      "execution_count": 3,
      "metadata": {
        "id": "N_5eHWeg63CT"
      },
      "outputs": [],
      "source": [
        "class SGD:\n",
        "    def __init__(self, learning_rate=0.01):\n",
        "        self.learning_rate = learning_rate\n",
        "\n",
        "    def update(self, model):\n",
        "        model.update_weights(self.learning_rate)\n",
        "\n",
        "class Adam:\n",
        "    def __init__(self, learning_rate=0.001):\n",
        "        self.learning_rate = learning_rate\n",
        "        self.mW = [np.zeros_like(w) for w in [model.W1, model.W2, model.W3]]\n",
        "        self.mb = [np.zeros_like(b) for b in [model.b1, model.b2, model.b3]]\n",
        "        self.t = 0\n",
        "\n",
        "    def update(self, model):\n",
        "        self.t += 1\n",
        "        beta1, beta2 = 0.9, 0.999\n",
        "        epsilon = 1e-8\n",
        "\n",
        "        # Update weights and biases using Adam\n",
        "        for i, (W, dW, b, db) in enumerate(zip([model.W1, model.W2, model.W3],\n",
        "                                                [model.dW1, model.dW2, model.dW3],\n",
        "                                                [model.b1, model.b2, model.b3],\n",
        "                                                [model.db1, model.db2, model.db3])):\n",
        "            self.mW[i] = beta1 * self.mW[i] + (1 - beta1) * dW\n",
        "            self.mb[i] = beta1 * self.mb[i] + (1 - beta1) * db\n",
        "            mW_hat = self.mW[i] / (1 - beta1 ** self.t)\n",
        "            mb_hat = self.mb[i] / (1 - beta1 ** self.t)\n",
        "\n",
        "            W -= self.learning_rate * mW_hat\n",
        "            b -= self.learning_rate * mb_hat\n"
      ]
    },
    {
      "cell_type": "markdown",
      "metadata": {
        "id": "Fp3yQ0Ba66it"
      },
      "source": [
        "Train the Model"
      ]
    },
    {
      "cell_type": "code",
      "execution_count": 4,
      "metadata": {
        "colab": {
          "base_uri": "https://localhost:8080/"
        },
        "id": "bpcxOKzq68eM",
        "outputId": "2473598e-4551-40a3-c619-acf2cc26408c"
      },
      "outputs": [
        {
          "name": "stdout",
          "output_type": "stream",
          "text": [
            "Epoch 0/100, Loss: 0.6931, Test Accuracy: 0.6500\n",
            "Epoch 10/100, Loss: 0.6927, Test Accuracy: 0.6500\n",
            "Epoch 20/100, Loss: 0.6922, Test Accuracy: 0.6500\n",
            "Epoch 30/100, Loss: 0.6918, Test Accuracy: 0.6500\n",
            "Epoch 40/100, Loss: 0.6915, Test Accuracy: 0.6500\n",
            "Epoch 50/100, Loss: 0.6912, Test Accuracy: 0.6500\n",
            "Epoch 60/100, Loss: 0.6909, Test Accuracy: 0.6500\n",
            "Epoch 70/100, Loss: 0.6906, Test Accuracy: 0.6500\n",
            "Epoch 80/100, Loss: 0.6904, Test Accuracy: 0.6500\n",
            "Epoch 90/100, Loss: 0.6902, Test Accuracy: 0.6500\n",
            "Epoch 0/100, Loss: 0.6931, Test Accuracy: 0.6500\n",
            "Epoch 10/100, Loss: 0.6931, Test Accuracy: 0.6500\n",
            "Epoch 20/100, Loss: 0.6930, Test Accuracy: 0.6500\n",
            "Epoch 30/100, Loss: 0.6930, Test Accuracy: 0.6500\n",
            "Epoch 40/100, Loss: 0.6930, Test Accuracy: 0.6500\n",
            "Epoch 50/100, Loss: 0.6929, Test Accuracy: 0.6500\n",
            "Epoch 60/100, Loss: 0.6929, Test Accuracy: 0.6500\n",
            "Epoch 70/100, Loss: 0.6928, Test Accuracy: 0.6500\n",
            "Epoch 80/100, Loss: 0.6928, Test Accuracy: 0.6500\n",
            "Epoch 90/100, Loss: 0.6927, Test Accuracy: 0.6500\n"
          ]
        }
      ],
      "source": [
        "def train_model(model, X_train, y_train, X_test, y_test, optimizer, epochs=100):\n",
        "    train_losses = []\n",
        "    test_accuracies = []\n",
        "\n",
        "    for epoch in range(epochs):\n",
        "        # Forward pass\n",
        "        y_pred = model.forward(X_train)\n",
        "\n",
        "        # Compute loss\n",
        "        loss = model.compute_loss(y_train, y_pred)\n",
        "        train_losses.append(loss)\n",
        "\n",
        "        # Backward pass\n",
        "        model.backward(X_train, y_train, y_pred)\n",
        "\n",
        "        # Update weights\n",
        "        optimizer.update(model)\n",
        "\n",
        "        # Evaluate on test set\n",
        "        test_pred = model.forward(X_test)\n",
        "        test_accuracy = accuracy_score(np.argmax(y_test, axis=1), np.argmax(test_pred, axis=1))\n",
        "        test_accuracies.append(test_accuracy)\n",
        "\n",
        "        if epoch % 10 == 0:\n",
        "            print(f'Epoch {epoch}/{epochs}, Loss: {loss:.4f}, Test Accuracy: {test_accuracy:.4f}')\n",
        "\n",
        "    return train_losses, test_accuracies\n",
        "\n",
        "# Initialize model\n",
        "input_size = X_train.shape[1]\n",
        "hidden1_size = 5\n",
        "hidden2_size = 3\n",
        "output_size = y_train.shape[1]\n",
        "\n",
        "# Train with SGD\n",
        "model = SimpleDNN(input_size, hidden1_size, hidden2_size, output_size)  # Initialize model\n",
        "sgd_optimizer = SGD(learning_rate=0.01)\n",
        "train_losses_sgd, test_accuracies_sgd = train_model(model, X_train, y_train, X_test, y_test, sgd_optimizer, epochs=100)\n",
        "\n",
        "# Train with Adam\n",
        "model = SimpleDNN(input_size, hidden1_size, hidden2_size, output_size)  # Reset model\n",
        "adam_optimizer = Adam(learning_rate=0.001)\n",
        "train_losses_adam, test_accuracies_adam = train_model(model, X_train, y_train, X_test, y_test, adam_optimizer, epochs=100)\n"
      ]
    },
    {
      "cell_type": "markdown",
      "metadata": {
        "id": "JiyQprQk7MzP"
      },
      "source": [
        "Evaluate and Plot Results"
      ]
    },
    {
      "cell_type": "code",
      "execution_count": 5,
      "metadata": {
        "colab": {
          "base_uri": "https://localhost:8080/",
          "height": 484
        },
        "id": "UyaV5e-E7Rcy",
        "outputId": "91c9a810-c4db-47f3-8a67-840b34e7b366"
      },
      "outputs": [
        {
          "data": {
            "image/png": "[encoded data removed]",
            "text/plain": [
              "<Figure size 1400x500 with 2 Axes>"
            ]
          },
          "metadata": {},
          "output_type": "display_data"
        }
      ],
      "source": [
        "# Plot training loss\n",
        "plt.figure(figsize=(14, 5))\n",
        "\n",
        "# Loss curves\n",
        "plt.subplot(1, 2, 1)\n",
        "plt.plot(train_losses_sgd, label='SGD')\n",
        "plt.plot(train_losses_adam, label='Adam')\n",
        "plt.title('Training Loss')\n",
        "plt.xlabel('Epochs')\n",
        "plt.ylabel('Loss')\n",
        "plt.legend()\n",
        "\n",
        "# Accuracy curves\n",
        "plt.subplot(1, 2, 2)\n",
        "plt.plot(test_accuracies_sgd, label='SGD')\n",
        "plt.plot(test_accuracies_adam, label='Adam')\n",
        "plt.title('Test Accuracy')\n",
        "plt.xlabel('Epochs')\n",
        "plt.ylabel('Accuracy')\n",
        "plt.legend()\n",
        "\n",
        "plt.show()\n"
      ]
    }
  ],
  "metadata": {
    "accelerator": "GPU",
    "colab": {
      "gpuType": "T4",
      "provenance": []
    },
    "kernelspec": {
      "display_name": "Python 3",
      "name": "python3"
    },
    "language_info": {
      "codemirror_mode": {
        "name": "ipython",
        "version": 3
      },
      "file_extension": ".py",
      "mimetype": "text/x-python",
      "name": "python",
      "nbconvert_exporter": "python",
      "pygments_lexer": "ipython3",
      "version": "3.11.4"
    }
  },
  "nbformat": 4,
  "nbformat_minor": 0
}
